{
 "cells": [
  {
   "cell_type": "code",
   "execution_count": 1,
   "metadata": {},
   "outputs": [],
   "source": [
    "import numpy as np\n",
    "import pandas as pd\n",
    "import matplotlib.pyplot as plt\n",
    "import seaborn as sns\n",
    "import os"
   ]
  },
  {
   "cell_type": "code",
   "execution_count": 2,
   "metadata": {},
   "outputs": [
    {
     "data": {
      "text/plain": [
       "'c:\\\\Users\\\\Ayo Agbaje\\\\Documents\\\\Code\\\\Python\\\\GIGS\\\\PYTHON_docs\\\\py_files\\\\Competitions\\\\Kaggle Competitions\\\\playground-series-s3e5'"
      ]
     },
     "execution_count": 2,
     "metadata": {},
     "output_type": "execute_result"
    }
   ],
   "source": [
    "pwd"
   ]
  },
  {
   "cell_type": "code",
   "execution_count": 3,
   "metadata": {},
   "outputs": [],
   "source": [
    "train_ = pd.read_csv('train.csv')\n",
    "test_ = pd.read_csv('test.csv')\n",
    "sample_sub_ = pd.read_csv('sample_submission.csv')"
   ]
  },
  {
   "cell_type": "code",
   "execution_count": 4,
   "metadata": {},
   "outputs": [
    {
     "data": {
      "text/html": [
       "<div>\n",
       "<style scoped>\n",
       "    .dataframe tbody tr th:only-of-type {\n",
       "        vertical-align: middle;\n",
       "    }\n",
       "\n",
       "    .dataframe tbody tr th {\n",
       "        vertical-align: top;\n",
       "    }\n",
       "\n",
       "    .dataframe thead th {\n",
       "        text-align: right;\n",
       "    }\n",
       "</style>\n",
       "<table border=\"1\" class=\"dataframe\">\n",
       "  <thead>\n",
       "    <tr style=\"text-align: right;\">\n",
       "      <th></th>\n",
       "      <th>Id</th>\n",
       "      <th>fixed acidity</th>\n",
       "      <th>volatile acidity</th>\n",
       "      <th>citric acid</th>\n",
       "      <th>residual sugar</th>\n",
       "      <th>chlorides</th>\n",
       "      <th>free sulfur dioxide</th>\n",
       "      <th>total sulfur dioxide</th>\n",
       "      <th>density</th>\n",
       "      <th>pH</th>\n",
       "      <th>sulphates</th>\n",
       "      <th>alcohol</th>\n",
       "      <th>quality</th>\n",
       "    </tr>\n",
       "  </thead>\n",
       "  <tbody>\n",
       "    <tr>\n",
       "      <th>0</th>\n",
       "      <td>0</td>\n",
       "      <td>8.0</td>\n",
       "      <td>0.50</td>\n",
       "      <td>0.39</td>\n",
       "      <td>2.2</td>\n",
       "      <td>0.073</td>\n",
       "      <td>30.0</td>\n",
       "      <td>39.0</td>\n",
       "      <td>0.99572</td>\n",
       "      <td>3.33</td>\n",
       "      <td>0.77</td>\n",
       "      <td>12.1</td>\n",
       "      <td>6</td>\n",
       "    </tr>\n",
       "    <tr>\n",
       "      <th>1</th>\n",
       "      <td>1</td>\n",
       "      <td>9.3</td>\n",
       "      <td>0.30</td>\n",
       "      <td>0.73</td>\n",
       "      <td>2.3</td>\n",
       "      <td>0.092</td>\n",
       "      <td>30.0</td>\n",
       "      <td>67.0</td>\n",
       "      <td>0.99854</td>\n",
       "      <td>3.32</td>\n",
       "      <td>0.67</td>\n",
       "      <td>12.8</td>\n",
       "      <td>6</td>\n",
       "    </tr>\n",
       "    <tr>\n",
       "      <th>2</th>\n",
       "      <td>2</td>\n",
       "      <td>7.1</td>\n",
       "      <td>0.51</td>\n",
       "      <td>0.03</td>\n",
       "      <td>2.1</td>\n",
       "      <td>0.059</td>\n",
       "      <td>3.0</td>\n",
       "      <td>12.0</td>\n",
       "      <td>0.99660</td>\n",
       "      <td>3.52</td>\n",
       "      <td>0.73</td>\n",
       "      <td>11.3</td>\n",
       "      <td>7</td>\n",
       "    </tr>\n",
       "    <tr>\n",
       "      <th>3</th>\n",
       "      <td>3</td>\n",
       "      <td>8.1</td>\n",
       "      <td>0.87</td>\n",
       "      <td>0.22</td>\n",
       "      <td>2.6</td>\n",
       "      <td>0.084</td>\n",
       "      <td>11.0</td>\n",
       "      <td>65.0</td>\n",
       "      <td>0.99730</td>\n",
       "      <td>3.20</td>\n",
       "      <td>0.53</td>\n",
       "      <td>9.8</td>\n",
       "      <td>5</td>\n",
       "    </tr>\n",
       "    <tr>\n",
       "      <th>4</th>\n",
       "      <td>4</td>\n",
       "      <td>8.5</td>\n",
       "      <td>0.36</td>\n",
       "      <td>0.30</td>\n",
       "      <td>2.3</td>\n",
       "      <td>0.079</td>\n",
       "      <td>10.0</td>\n",
       "      <td>45.0</td>\n",
       "      <td>0.99444</td>\n",
       "      <td>3.20</td>\n",
       "      <td>1.36</td>\n",
       "      <td>9.5</td>\n",
       "      <td>6</td>\n",
       "    </tr>\n",
       "  </tbody>\n",
       "</table>\n",
       "</div>"
      ],
      "text/plain": [
       "   Id  fixed acidity  volatile acidity  citric acid  residual sugar  \\\n",
       "0   0            8.0              0.50         0.39             2.2   \n",
       "1   1            9.3              0.30         0.73             2.3   \n",
       "2   2            7.1              0.51         0.03             2.1   \n",
       "3   3            8.1              0.87         0.22             2.6   \n",
       "4   4            8.5              0.36         0.30             2.3   \n",
       "\n",
       "   chlorides  free sulfur dioxide  total sulfur dioxide  density    pH  \\\n",
       "0      0.073                 30.0                  39.0  0.99572  3.33   \n",
       "1      0.092                 30.0                  67.0  0.99854  3.32   \n",
       "2      0.059                  3.0                  12.0  0.99660  3.52   \n",
       "3      0.084                 11.0                  65.0  0.99730  3.20   \n",
       "4      0.079                 10.0                  45.0  0.99444  3.20   \n",
       "\n",
       "   sulphates  alcohol  quality  \n",
       "0       0.77     12.1        6  \n",
       "1       0.67     12.8        6  \n",
       "2       0.73     11.3        7  \n",
       "3       0.53      9.8        5  \n",
       "4       1.36      9.5        6  "
      ]
     },
     "execution_count": 4,
     "metadata": {},
     "output_type": "execute_result"
    }
   ],
   "source": [
    "train_.head()"
   ]
  },
  {
   "cell_type": "code",
   "execution_count": 5,
   "metadata": {},
   "outputs": [
    {
     "data": {
      "text/plain": [
       "Id                      0\n",
       "fixed acidity           0\n",
       "volatile acidity        0\n",
       "citric acid             0\n",
       "residual sugar          0\n",
       "chlorides               0\n",
       "free sulfur dioxide     0\n",
       "total sulfur dioxide    0\n",
       "density                 0\n",
       "pH                      0\n",
       "sulphates               0\n",
       "alcohol                 0\n",
       "quality                 0\n",
       "dtype: int64"
      ]
     },
     "execution_count": 5,
     "metadata": {},
     "output_type": "execute_result"
    }
   ],
   "source": [
    "train_.isnull().sum()"
   ]
  },
  {
   "cell_type": "code",
   "execution_count": 6,
   "metadata": {},
   "outputs": [
    {
     "data": {
      "text/html": [
       "<div>\n",
       "<style scoped>\n",
       "    .dataframe tbody tr th:only-of-type {\n",
       "        vertical-align: middle;\n",
       "    }\n",
       "\n",
       "    .dataframe tbody tr th {\n",
       "        vertical-align: top;\n",
       "    }\n",
       "\n",
       "    .dataframe thead th {\n",
       "        text-align: right;\n",
       "    }\n",
       "</style>\n",
       "<table border=\"1\" class=\"dataframe\">\n",
       "  <thead>\n",
       "    <tr style=\"text-align: right;\">\n",
       "      <th></th>\n",
       "      <th>fixed acidity</th>\n",
       "      <th>volatile acidity</th>\n",
       "      <th>citric acid</th>\n",
       "      <th>residual sugar</th>\n",
       "      <th>chlorides</th>\n",
       "      <th>free sulfur dioxide</th>\n",
       "      <th>total sulfur dioxide</th>\n",
       "      <th>density</th>\n",
       "      <th>pH</th>\n",
       "      <th>sulphates</th>\n",
       "      <th>alcohol</th>\n",
       "    </tr>\n",
       "  </thead>\n",
       "  <tbody>\n",
       "    <tr>\n",
       "      <th>0</th>\n",
       "      <td>8.0</td>\n",
       "      <td>0.50</td>\n",
       "      <td>0.39</td>\n",
       "      <td>2.2</td>\n",
       "      <td>0.073</td>\n",
       "      <td>30.0</td>\n",
       "      <td>39.0</td>\n",
       "      <td>0.99572</td>\n",
       "      <td>3.33</td>\n",
       "      <td>0.77</td>\n",
       "      <td>12.1</td>\n",
       "    </tr>\n",
       "    <tr>\n",
       "      <th>1</th>\n",
       "      <td>9.3</td>\n",
       "      <td>0.30</td>\n",
       "      <td>0.73</td>\n",
       "      <td>2.3</td>\n",
       "      <td>0.092</td>\n",
       "      <td>30.0</td>\n",
       "      <td>67.0</td>\n",
       "      <td>0.99854</td>\n",
       "      <td>3.32</td>\n",
       "      <td>0.67</td>\n",
       "      <td>12.8</td>\n",
       "    </tr>\n",
       "    <tr>\n",
       "      <th>2</th>\n",
       "      <td>7.1</td>\n",
       "      <td>0.51</td>\n",
       "      <td>0.03</td>\n",
       "      <td>2.1</td>\n",
       "      <td>0.059</td>\n",
       "      <td>3.0</td>\n",
       "      <td>12.0</td>\n",
       "      <td>0.99660</td>\n",
       "      <td>3.52</td>\n",
       "      <td>0.73</td>\n",
       "      <td>11.3</td>\n",
       "    </tr>\n",
       "    <tr>\n",
       "      <th>3</th>\n",
       "      <td>8.1</td>\n",
       "      <td>0.87</td>\n",
       "      <td>0.22</td>\n",
       "      <td>2.6</td>\n",
       "      <td>0.084</td>\n",
       "      <td>11.0</td>\n",
       "      <td>65.0</td>\n",
       "      <td>0.99730</td>\n",
       "      <td>3.20</td>\n",
       "      <td>0.53</td>\n",
       "      <td>9.8</td>\n",
       "    </tr>\n",
       "    <tr>\n",
       "      <th>4</th>\n",
       "      <td>8.5</td>\n",
       "      <td>0.36</td>\n",
       "      <td>0.30</td>\n",
       "      <td>2.3</td>\n",
       "      <td>0.079</td>\n",
       "      <td>10.0</td>\n",
       "      <td>45.0</td>\n",
       "      <td>0.99444</td>\n",
       "      <td>3.20</td>\n",
       "      <td>1.36</td>\n",
       "      <td>9.5</td>\n",
       "    </tr>\n",
       "  </tbody>\n",
       "</table>\n",
       "</div>"
      ],
      "text/plain": [
       "   fixed acidity  volatile acidity  citric acid  residual sugar  chlorides  \\\n",
       "0            8.0              0.50         0.39             2.2      0.073   \n",
       "1            9.3              0.30         0.73             2.3      0.092   \n",
       "2            7.1              0.51         0.03             2.1      0.059   \n",
       "3            8.1              0.87         0.22             2.6      0.084   \n",
       "4            8.5              0.36         0.30             2.3      0.079   \n",
       "\n",
       "   free sulfur dioxide  total sulfur dioxide  density    pH  sulphates  \\\n",
       "0                 30.0                  39.0  0.99572  3.33       0.77   \n",
       "1                 30.0                  67.0  0.99854  3.32       0.67   \n",
       "2                  3.0                  12.0  0.99660  3.52       0.73   \n",
       "3                 11.0                  65.0  0.99730  3.20       0.53   \n",
       "4                 10.0                  45.0  0.99444  3.20       1.36   \n",
       "\n",
       "   alcohol  \n",
       "0     12.1  \n",
       "1     12.8  \n",
       "2     11.3  \n",
       "3      9.8  \n",
       "4      9.5  "
      ]
     },
     "execution_count": 6,
     "metadata": {},
     "output_type": "execute_result"
    }
   ],
   "source": [
    "hist_df = train_.iloc[:, 1:-1]\n",
    "hist_df.head()"
   ]
  },
  {
   "cell_type": "code",
   "execution_count": 16,
   "metadata": {},
   "outputs": [
    {
     "name": "stderr",
     "output_type": "stream",
     "text": [
      "C:\\Users\\Ayo Agbaje\\AppData\\Local\\Temp\\ipykernel_10312\\2551726123.py:2: UserWarning: To output multiple subplots, the figure containing the passed axes is being cleared.\n",
      "  hist_df.hist(ax = ax)\n"
     ]
    },
    {
     "data": {
      "text/plain": [
       "array([[<AxesSubplot:title={'center':'fixed acidity'}>,\n",
       "        <AxesSubplot:title={'center':'volatile acidity'}>,\n",
       "        <AxesSubplot:title={'center':'citric acid'}>],\n",
       "       [<AxesSubplot:title={'center':'residual sugar'}>,\n",
       "        <AxesSubplot:title={'center':'chlorides'}>,\n",
       "        <AxesSubplot:title={'center':'free sulfur dioxide'}>],\n",
       "       [<AxesSubplot:title={'center':'total sulfur dioxide'}>,\n",
       "        <AxesSubplot:title={'center':'density'}>,\n",
       "        <AxesSubplot:title={'center':'pH'}>],\n",
       "       [<AxesSubplot:title={'center':'sulphates'}>,\n",
       "        <AxesSubplot:title={'center':'alcohol'}>, <AxesSubplot:>]],\n",
       "      dtype=object)"
      ]
     },
     "execution_count": 16,
     "metadata": {},
     "output_type": "execute_result"
    },
    {
     "data": {
      "image/png": "[encoded data removed]",
      "text/plain": [
       "<Figure size 1224x936 with 12 Axes>"
      ]
     },
     "metadata": {
      "needs_background": "light"
     },
     "output_type": "display_data"
    }
   ],
   "source": [
    "fig, ax = plt.subplots(1, 1, figsize = (17, 13))\n",
    "hist_df.hist(ax = ax)"
   ]
  },
  {
   "cell_type": "code",
   "execution_count": null,
   "metadata": {},
   "outputs": [],
   "source": []
  }
 ],
 "metadata": {
  "kernelspec": {
   "display_name": "my_venv_",
   "language": "python",
   "name": "python3"
  },
  "language_info": {
   "codemirror_mode": {
    "name": "ipython",
    "version": 3
   },
   "file_extension": ".py",
   "mimetype": "text/x-python",
   "name": "python",
   "nbconvert_exporter": "python",
   "pygments_lexer": "ipython3",
   "version": "3.10.5 (tags/v3.10.5:f377153, Jun  6 2022, 16:14:13) [MSC v.1929 64 bit (AMD64)]"
  },
  "orig_nbformat": 4,
  "vscode": {
   "interpreter": {
    "hash": "9b263d7927ede25cb646ee2b0f8e72870ed531703475dab66c62ea36a04dd643"
   }
  }
 },
 "nbformat": 4,
 "nbformat_minor": 2
}
